{
 "cells": [
  {
   "cell_type": "markdown",
   "id": "dd9429fe",
   "metadata": {
    "papermill": {
     "duration": 0.019367,
     "end_time": "2022-05-03T06:10:15.347108",
     "exception": false,
     "start_time": "2022-05-03T06:10:15.327741",
     "status": "completed"
    },
    "tags": []
   },
   "source": [
    "# Using the `AlecOODShapeData` Class\n",
    "\n",
    "The `AlecOODShapeData` class represents a major north star metric in how we measure our models. In Alec-OOD mode, we train the model on certain combinations of shape color and type and certain numbers of objects, then evalaute its ability to extrapolate to new combinations of shape color and type and new numbers of objects. Unlike the standard OOD mode, we use Alec mode, meaning each scene can be reliably expressed across just three dimensions (color, type, count) instead of representing a list of objects.\n",
    "\n",
    "This notebook demonstrates starting places for using the `AlecOODShapeData` class."
   ]
  },
  {
   "cell_type": "markdown",
   "id": "ccce2372",
   "metadata": {
    "papermill": {
     "duration": 0.018409,
     "end_time": "2022-05-03T06:10:15.384342",
     "exception": false,
     "start_time": "2022-05-03T06:10:15.365933",
     "status": "completed"
    },
    "tags": []
   },
   "source": [
    "---"
   ]
  },
  {
   "cell_type": "markdown",
   "id": "9e54d3d5",
   "metadata": {
    "papermill": {
     "duration": 0.018263,
     "end_time": "2022-05-03T06:10:15.421830",
     "exception": false,
     "start_time": "2022-05-03T06:10:15.403567",
     "status": "completed"
    },
    "tags": []
   },
   "source": [
    "## Imports"
   ]
  },
  {
   "cell_type": "code",
   "execution_count": 1,
   "id": "85de736a",
   "metadata": {
    "_cell_guid": "b1076dfc-b9ad-4769-8c92-a6c4dae69d19",
    "_uuid": "8f2839f25d086af736a60e9eeb907d3b93b6e0e5",
    "execution": {
     "iopub.execute_input": "2022-05-03T06:10:15.461350Z",
     "iopub.status.busy": "2022-05-03T06:10:15.460783Z",
     "iopub.status.idle": "2022-05-03T06:10:16.774264Z",
     "shell.execute_reply": "2022-05-03T06:10:16.773294Z"
    },
    "papermill": {
     "duration": 1.336606,
     "end_time": "2022-05-03T06:10:16.776971",
     "exception": false,
     "start_time": "2022-05-03T06:10:15.440365",
     "status": "completed"
    },
    "tags": []
   },
   "outputs": [
    {
     "name": "stdout",
     "output_type": "stream",
     "text": [
      "--2022-05-03 06:10:16--  https://raw.githubusercontent.com/interactive-intelligence/emergent-lang/main/shapedata.py\r\n",
      "Resolving raw.githubusercontent.com (raw.githubusercontent.com)... 185.199.110.133, 185.199.109.133, 185.199.108.133, ...\r\n",
      "Connecting to raw.githubusercontent.com (raw.githubusercontent.com)|185.199.110.133|:443... connected.\r\n",
      "HTTP request sent, awaiting response... 200 OK\r\n",
      "Length: 15734 (15K) [text/plain]\r\n",
      "Saving to: ‘shapedata.py’\r\n",
      "\r\n",
      "shapedata.py        100%[===================>]  15.37K  --.-KB/s    in 0s      \r\n",
      "\r\n",
      "2022-05-03 06:10:16 (52.4 MB/s) - ‘shapedata.py’ saved [15734/15734]\r\n",
      "\r\n"
     ]
    }
   ],
   "source": [
    "!wget -O shapedata.py https://raw.githubusercontent.com/interactive-intelligence/emergent-lang/main/shapedata.py\n",
    "import shapedata\n",
    "import importlib\n",
    "importlib.reload(shapedata)\n",
    "\n",
    "import shapedata\n",
    "import random\n",
    "import numpy as np"
   ]
  },
  {
   "cell_type": "markdown",
   "id": "6d1cc361",
   "metadata": {
    "papermill": {
     "duration": 0.019813,
     "end_time": "2022-05-03T06:10:16.817912",
     "exception": false,
     "start_time": "2022-05-03T06:10:16.798099",
     "status": "completed"
    },
    "tags": []
   },
   "source": [
    "---"
   ]
  },
  {
   "cell_type": "markdown",
   "id": "580e119d",
   "metadata": {
    "papermill": {
     "duration": 0.019642,
     "end_time": "2022-05-03T06:10:16.857727",
     "exception": false,
     "start_time": "2022-05-03T06:10:16.838085",
     "status": "completed"
    },
    "tags": []
   },
   "source": [
    "# Instantiating the Dataset"
   ]
  },
  {
   "cell_type": "code",
   "execution_count": 2,
   "id": "ebf1f0ac",
   "metadata": {
    "execution": {
     "iopub.execute_input": "2022-05-03T06:10:16.899954Z",
     "iopub.status.busy": "2022-05-03T06:10:16.899378Z",
     "iopub.status.idle": "2022-05-03T06:10:16.904113Z",
     "shell.execute_reply": "2022-05-03T06:10:16.903192Z"
    },
    "papermill": {
     "duration": 0.028263,
     "end_time": "2022-05-03T06:10:16.906214",
     "exception": false,
     "start_time": "2022-05-03T06:10:16.877951",
     "status": "completed"
    },
    "tags": []
   },
   "outputs": [],
   "source": [
    "from shapedata import AlecOODShapeData"
   ]
  },
  {
   "cell_type": "markdown",
   "id": "a82f78b0",
   "metadata": {
    "papermill": {
     "duration": 0.020332,
     "end_time": "2022-05-03T06:10:16.946653",
     "exception": false,
     "start_time": "2022-05-03T06:10:16.926321",
     "status": "completed"
    },
    "tags": []
   },
   "source": [
    "The `AlecOODShapeData` class has three new parameters - `exclude_shapes`, `id_object_counts`, and `ood_object_counts`. From the source code:\n",
    "\n",
    "```\n",
    "exclude_shapes: a set of tuples in form (shape_name, color). For instance,\n",
    "    {('square', (255, 0, 0)), ('circle', (0, 255, 0))} excludes red squares\n",
    "    and green circles from the in-distribution training dataset. The excluded\n",
    "    shapes constitute the out-of-distribution dataset.\n",
    "id_object_counts: valid object counts for in-distribution training dataset.\n",
    "    For instance, [1, 2, 3] specifies that there are either 1, 2, or 3 objects\n",
    "    in each in-distribution scene.\n",
    "ood_object_counts: valid object counts for out-of-distribution dataset.\n",
    "    For instance, [4, 5] specifies that there are either 4 or 5 objects in each\n",
    "    out of distribution scene. This can be set to be a subset of id_object_counts\n",
    "    if not focusing on extrapolating to new object counts.\n",
    "```"
   ]
  },
  {
   "cell_type": "code",
   "execution_count": 3,
   "id": "7337d597",
   "metadata": {
    "execution": {
     "iopub.execute_input": "2022-05-03T06:10:16.991051Z",
     "iopub.status.busy": "2022-05-03T06:10:16.990780Z",
     "iopub.status.idle": "2022-05-03T06:10:16.996326Z",
     "shell.execute_reply": "2022-05-03T06:10:16.995421Z"
    },
    "papermill": {
     "duration": 0.030926,
     "end_time": "2022-05-03T06:10:16.998388",
     "exception": false,
     "start_time": "2022-05-03T06:10:16.967462",
     "status": "completed"
    },
    "tags": []
   },
   "outputs": [],
   "source": [
    "data = AlecOODShapeData(# boring old parameters\n",
    "                        im_size=64,\n",
    "                        batch_size=128,\n",
    "                        outline=(255, 255,255),\n",
    "                        \n",
    "                        # exciting new stuff!\n",
    "                        exclude_shapes={('square', (255, 0, 0))}, \n",
    "                        id_object_counts=[1, 2, 3],\n",
    "                        ood_object_counts=[4, 5])"
   ]
  },
  {
   "cell_type": "markdown",
   "id": "6afc131a",
   "metadata": {
    "papermill": {
     "duration": 0.020494,
     "end_time": "2022-05-03T06:10:17.039147",
     "exception": false,
     "start_time": "2022-05-03T06:10:17.018653",
     "status": "completed"
    },
    "tags": []
   },
   "source": [
    "You can show the in-distribution dataset with `shapedata.demo_dataset()`."
   ]
  },
  {
   "cell_type": "code",
   "execution_count": 4,
   "id": "58671bb2",
   "metadata": {
    "execution": {
     "iopub.execute_input": "2022-05-03T06:10:17.082277Z",
     "iopub.status.busy": "2022-05-03T06:10:17.082034Z",
     "iopub.status.idle": "2022-05-03T06:10:17.149495Z",
     "shell.execute_reply": "2022-05-03T06:10:17.148683Z"
    },
    "papermill": {
     "duration": 0.091236,
     "end_time": "2022-05-03T06:10:17.151373",
     "exception": false,
     "start_time": "2022-05-03T06:10:17.060137",
     "status": "completed"
    },
    "tags": []
   },
   "outputs": [
    {
     "data": {
      "image/png": "[encoded data removed]",
      "text/plain": [
       "<PIL.Image.Image image mode=RGB size=429x304 at 0x7F4414673F10>"
      ]
     },
     "execution_count": 4,
     "metadata": {},
     "output_type": "execute_result"
    }
   ],
   "source": [
    "shapedata.demo_dataset(data)"
   ]
  },
  {
   "cell_type": "markdown",
   "id": "af764ad4",
   "metadata": {
    "papermill": {
     "duration": 0.020647,
     "end_time": "2022-05-03T06:10:17.192392",
     "exception": false,
     "start_time": "2022-05-03T06:10:17.171745",
     "status": "completed"
    },
    "tags": []
   },
   "source": [
    "To show the out of distribution dataset, set `ood=True`. This is an extra parameter I added in that Yegor will probably hate which applies only when visualizing an `AlecOODShapeData` class."
   ]
  },
  {
   "cell_type": "code",
   "execution_count": 5,
   "id": "6f84bc45",
   "metadata": {
    "execution": {
     "iopub.execute_input": "2022-05-03T06:10:17.235535Z",
     "iopub.status.busy": "2022-05-03T06:10:17.235272Z",
     "iopub.status.idle": "2022-05-03T06:10:17.304376Z",
     "shell.execute_reply": "2022-05-03T06:10:17.303626Z"
    },
    "papermill": {
     "duration": 0.093654,
     "end_time": "2022-05-03T06:10:17.306652",
     "exception": false,
     "start_time": "2022-05-03T06:10:17.212998",
     "status": "completed"
    },
    "tags": []
   },
   "outputs": [
    {
     "data": {
      "image/png": "[encoded data removed]",
      "text/plain": [
       "<PIL.Image.Image image mode=RGB size=429x304 at 0x7F441466AC90>"
      ]
     },
     "execution_count": 5,
     "metadata": {},
     "output_type": "execute_result"
    }
   ],
   "source": [
    "shapedata.demo_dataset(data, ood=True)"
   ]
  },
  {
   "cell_type": "markdown",
   "id": "0b9d5cb6",
   "metadata": {
    "papermill": {
     "duration": 0.021392,
     "end_time": "2022-05-03T06:10:17.349408",
     "exception": false,
     "start_time": "2022-05-03T06:10:17.328016",
     "status": "completed"
    },
    "tags": []
   },
   "source": [
    "---"
   ]
  },
  {
   "cell_type": "markdown",
   "id": "37a06144",
   "metadata": {
    "papermill": {
     "duration": 0.020934,
     "end_time": "2022-05-03T06:10:17.391459",
     "exception": false,
     "start_time": "2022-05-03T06:10:17.370525",
     "status": "completed"
    },
    "tags": []
   },
   "source": [
    "## Using the Dataset"
   ]
  },
  {
   "cell_type": "markdown",
   "id": "29322486",
   "metadata": {
    "papermill": {
     "duration": 0.020845,
     "end_time": "2022-05-03T06:10:17.433979",
     "exception": false,
     "start_time": "2022-05-03T06:10:17.413134",
     "status": "completed"
    },
    "tags": []
   },
   "source": [
    "Generating the in-distribution dataset is the same as before."
   ]
  },
  {
   "cell_type": "code",
   "execution_count": 6,
   "id": "e68d0881",
   "metadata": {
    "execution": {
     "iopub.execute_input": "2022-05-03T06:10:17.478624Z",
     "iopub.status.busy": "2022-05-03T06:10:17.478133Z",
     "iopub.status.idle": "2022-05-03T06:10:17.507413Z",
     "shell.execute_reply": "2022-05-03T06:10:17.506638Z"
    },
    "papermill": {
     "duration": 0.054579,
     "end_time": "2022-05-03T06:10:17.509695",
     "exception": false,
     "start_time": "2022-05-03T06:10:17.455116",
     "status": "completed"
    },
    "tags": []
   },
   "outputs": [],
   "source": [
    "(x1, x1_shapes), (x2, x2_shapes), y = data.create_batch()"
   ]
  },
  {
   "cell_type": "markdown",
   "id": "38e34f12",
   "metadata": {
    "papermill": {
     "duration": 0.021136,
     "end_time": "2022-05-03T06:10:17.551983",
     "exception": false,
     "start_time": "2022-05-03T06:10:17.530847",
     "status": "completed"
    },
    "tags": []
   },
   "source": [
    "To generate the out-of-distribution dataset for testing, use `.create_batch_ood()`. When the label is 1 (i.e. they are the same), this generates two OOD sets of shapes and creates two scenes. When the label is 0, the first returned image is an OOD set and the other is an ID set."
   ]
  },
  {
   "cell_type": "code",
   "execution_count": 7,
   "id": "560d0765",
   "metadata": {
    "execution": {
     "iopub.execute_input": "2022-05-03T06:10:17.595807Z",
     "iopub.status.busy": "2022-05-03T06:10:17.595533Z",
     "iopub.status.idle": "2022-05-03T06:10:17.654880Z",
     "shell.execute_reply": "2022-05-03T06:10:17.654061Z"
    },
    "papermill": {
     "duration": 0.084116,
     "end_time": "2022-05-03T06:10:17.657233",
     "exception": false,
     "start_time": "2022-05-03T06:10:17.573117",
     "status": "completed"
    },
    "tags": []
   },
   "outputs": [],
   "source": [
    "(x1, x1_shapes), (x2, x2_shapes), y = data.create_batch_ood()"
   ]
  },
  {
   "cell_type": "markdown",
   "id": "a3d7f8ca",
   "metadata": {
    "papermill": {
     "duration": 0.021204,
     "end_time": "2022-05-03T06:10:17.699672",
     "exception": false,
     "start_time": "2022-05-03T06:10:17.678468",
     "status": "completed"
    },
    "tags": []
   },
   "source": [
    "In cases where the label is 0, it may be easy to differentiate images simply by color. You can pass the `color_spec` argument into `create_batch_ood`, which restricts the other ID-generated image to the set of specified colors. Since in this example we excluded red squares, we would want to ensure that other ID images also feature red shapes."
   ]
  },
  {
   "cell_type": "code",
   "execution_count": 8,
   "id": "1c96c915",
   "metadata": {
    "execution": {
     "iopub.execute_input": "2022-05-03T06:10:17.744063Z",
     "iopub.status.busy": "2022-05-03T06:10:17.743676Z",
     "iopub.status.idle": "2022-05-03T06:10:17.804513Z",
     "shell.execute_reply": "2022-05-03T06:10:17.803822Z"
    },
    "papermill": {
     "duration": 0.08563,
     "end_time": "2022-05-03T06:10:17.806690",
     "exception": false,
     "start_time": "2022-05-03T06:10:17.721060",
     "status": "completed"
    },
    "tags": []
   },
   "outputs": [],
   "source": [
    "(x1, x1_shapes), (x2, x2_shapes), y = data.create_batch_ood(color_spec=[(255,0,0)])"
   ]
  },
  {
   "cell_type": "markdown",
   "id": "6f700c9d",
   "metadata": {
    "papermill": {
     "duration": 0.020677,
     "end_time": "2022-05-03T06:10:17.848510",
     "exception": false,
     "start_time": "2022-05-03T06:10:17.827833",
     "status": "completed"
    },
    "tags": []
   },
   "source": [
    "I also sneaked in a class-specific `color_spec` argument into `demo_dataset`."
   ]
  },
  {
   "cell_type": "code",
   "execution_count": 9,
   "id": "63c8ec30",
   "metadata": {
    "execution": {
     "iopub.execute_input": "2022-05-03T06:10:17.892094Z",
     "iopub.status.busy": "2022-05-03T06:10:17.891689Z",
     "iopub.status.idle": "2022-05-03T06:10:17.957038Z",
     "shell.execute_reply": "2022-05-03T06:10:17.956138Z"
    },
    "papermill": {
     "duration": 0.089822,
     "end_time": "2022-05-03T06:10:17.959165",
     "exception": false,
     "start_time": "2022-05-03T06:10:17.869343",
     "status": "completed"
    },
    "tags": []
   },
   "outputs": [
    {
     "data": {
      "image/png": "[encoded data removed]",
      "text/plain": [
       "<PIL.Image.Image image mode=RGB size=429x304 at 0x7F441464DA90>"
      ]
     },
     "execution_count": 9,
     "metadata": {},
     "output_type": "execute_result"
    }
   ],
   "source": [
    "shapedata.demo_dataset(data, ood=True, color_spec=[(255, 0, 0)])"
   ]
  },
  {
   "cell_type": "markdown",
   "id": "c991dc29",
   "metadata": {
    "papermill": {
     "duration": 0.021408,
     "end_time": "2022-05-03T06:10:18.002294",
     "exception": false,
     "start_time": "2022-05-03T06:10:17.980886",
     "status": "completed"
    },
    "tags": []
   },
   "source": [
    "Happy OOD evaluating!"
   ]
  }
 ],
 "metadata": {
  "kernelspec": {
   "display_name": "Python 3",
   "language": "python",
   "name": "python3"
  },
  "language_info": {
   "codemirror_mode": {
    "name": "ipython",
    "version": 3
   },
   "file_extension": ".py",
   "mimetype": "text/x-python",
   "name": "python",
   "nbconvert_exporter": "python",
   "pygments_lexer": "ipython3",
   "version": "3.7.12"
  },
  "papermill": {
   "default_parameters": {},
   "duration": 12.738702,
   "end_time": "2022-05-03T06:10:18.643862",
   "environment_variables": {},
   "exception": null,
   "input_path": "__notebook__.ipynb",
   "output_path": "__notebook__.ipynb",
   "parameters": {},
   "start_time": "2022-05-03T06:10:05.905160",
   "version": "2.3.4"
  }
 },
 "nbformat": 4,
 "nbformat_minor": 5
}
